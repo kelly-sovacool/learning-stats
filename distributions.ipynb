{
 "cells": [
  {
   "cell_type": "markdown",
   "metadata": {},
   "source": [
    "# Probability Distributions\n",
    "\n",
    "| Name            | C/D        | Notation | Density (PMF/PDF)  | Distribution (CDF) | $\\mathbb{E}[X]$ | $\\text{Var}[X]$ | Notes | Examples |\n",
    "| --------------- |---------------|----------|--------------------|--------------------|-----------------|----------|----------|----------|\n",
    "| Bernoulli       | Discrete   | $X\\sim\\text{Bern}(p)$ | \\begin{equation} P(x) = \\begin{cases} p & x=1 \\\\ 1-p & x=0 \\\\ 0 & else \\end{cases}\\end{equation} | ? | $\\mathbb{E}[X] = p$ | $\\text{Var}[X] = p(1-p)$ | ? | ? |\n",
    "| Binomial        | Discrete   | $X\\sim\\text{Binom}(n,p)$ | $P_x(k) = \\binom{n}{k} p^k (1-p)^{1-k}$ |  | ? | ? | ? | ? |\n",
    "| Poisson         | Discrete   | $X\\sim\\text{Poisson}(\\lambda\\sim np)$ | $P(k) = e^{-\\lambda} \\frac{\\lambda^k}{k!}$ | ? | $\\mathbb{E}[X] = \\lambda$ | $\\text{Var}[X] = \\lambda $ | Approximation to binomial when $n \\rightarrow \\infty$ and $p \\rightarrow 0$. | Number of misprints per page of a book. |\n",
    "| Geometric       | Discrete   | $X\\sim\\text{Geom}(p)$ | $P(k)=(1-p)^{k-1}$ | ? | $\\mathbb{E}[X] = \\frac{1}{p}$ | $\\text{Var}[X]=\\frac{1-p}{p^2}$ | Memoryless. Experiment with infinite trials; stop at first success. | Flip a coin until heads comes up. |\n",
    "| Uniform         | Continuous | $X\\sim\\text{Unif}(a,b)$ | \\begin{equation} f(x) = \\begin{cases} \\frac{1}{b-a} & x \\in [a,b] \\\\ 0 & \\text{else} \\end{cases} \\end{equation} | \\begin{equation} F(x) = \\begin{cases} \\frac{x-a}{b-a} & x \\in [a,b] \\\\ 0 & \\text{else} \\end{cases} \\end{equation} | $\\mathbb{E}[X] = \\frac{b+a}{2}$ | $\\text{Var}[X] = \\frac{(b-a)^2}{12}$ | Simplest continuous distribution. All outcomes equally likely. | Pick random point on disk of radius $r$. $x$ is distance to center. $f(x) = \\frac{2x}{r^2}$ when $0 \\leq x \\leq r$ |\n",
    "| General Normal  | Continuous | $X\\sim\\text{N}(\\mu,\\sigma)$ | $f(x) = \\frac{1}{\\sqrt{2\\pi}\\sigma} e^{-(x-\\mu)^2/2\\sigma^2}$ | (convert to standard) | $\\mathbb{E}[X]=\\mu$ | $\\text{Var}[X]=\\sigma^2$ | ? | Biological variables. Exam scores. |\n",
    "| Standard Normal | Continuous | $X\\sim\\text{N}(0,1)$ | $f(x) = \\frac{1}{\\sqrt{2\\pi}} e^{-(x^2)/2}$ | $\\phi(x)$ (use Z table) | $\\mathbb{E}[X] = 0$ | $\\text{Var}[X]=1$ | Special case of the normal with no parameters. | ? |\n",
    "| Exponential     | Continuous | $X\\sim\\text{Exp}(\\lambda)$ | \\begin{equation}f(x)=\\begin{cases} \\lambda e^{-lambda x} & x > 0 \\\\ 0 & else \\end{cases} \\end{equation} | \\begin{equation} F(x) = \\begin{cases} 1-e^{-\\lambda x} & x > 0 \\\\ 0 & else \\end{cases} \\end{equation} | $\\mathbb{E}[X] = \\frac{1}{\\lambda}$ | $\\text{Var}[X]=\\frac{1}{\\lambda^2}$ | Memoryless. $\\lambda=$ rate. Continuous version of Geom($p$). | ? |\n",
    "| Semi-circular | Continuous | ? | \\begin{equation}f(x)=\\begin{cases}\\frac{2\\sqrt{r^2-(\\mu-x)^2}}{\\pi r^2} & (\\mu-r)\\leq x \\leq (\\mu + r)\\end{cases}\\end{equation} | ? | ? | ? | ? | ? |\n",
    "| Standard Semi-circular | Continuous | ? | \\begin{equation}f(x)=\\begin{cases}\\frac{2\\sqrt{1-x^2}}{\\pi} & 0 \\leq x \\leq 1 \\end{cases}\\end{equation} | ? | ? | ? | Special case of the semi-circular where $\\mu=0$ and $r=1$ | ? |"
   ]
  },
  {
   "cell_type": "markdown",
   "metadata": {},
   "source": [
    "# Definitions & Equations\n",
    "\n",
    "## Parameters\n",
    "\n",
    "Discrete:    $\\mathbb{E}[X] = \\mu = \\sum_{i=1}^k x_i p_i$ \n",
    "\n",
    "Continuous:  $\\mathbb{E}[X] = \\mu = \\int_{-\\infty}^{\\infty} x f(x) dx$\n",
    "\n",
    "Law of total expectation: $\\mathbb{E}[X] = \\sum_j \\mathbb{P}(E|F_j)\\mathbb{P}(F_j)$\n",
    "\n",
    "$\\text{Var}[X] = \\mathbb{E}(X^2) - \\mathbb{E}(X)^2 = \\sigma^2$\n",
    "\n",
    "$\\sigma = \\sqrt{\\text{Var}[X]}$\n",
    "\n",
    "$Z = \\frac{x-\\mu}{\\sigma}$\n",
    "\n",
    "$Z\\sim~\\text{N}(0,1)$\n",
    "\n",
    "## Normal approximation to the Binomial Distribution\n",
    "\n",
    "When $n \\rightarrow \\infty$:\n",
    "\n",
    "$X\\sim\\text{Binom}(n,p)$\n",
    "\n",
    "$\\mathbb{E}[X] = np = \\mu$\n",
    "\n",
    "$\\sigma = \\sqrt{np(1-p)}$\n",
    "\n",
    "$z = \\frac{x-np}{\\sqrt{np(1-p)}}$\n",
    "\n",
    "$F_z(a) \\rightarrow \\phi (a) $\n",
    "\n",
    "$\\mathbb{P}(a \\leq z \\leq b) \\approx \\phi (b) - \\phi (a)$\n",
    "\n",
    "(via De Maivre-Laplace Central Limit Theorem)\n",
    "\n",
    "## Axioms of Probability\n",
    "\n",
    "## Conditional Probability"
   ]
  },
  {
   "cell_type": "markdown",
   "metadata": {},
   "source": [
    "# Calculus Review\n",
    "\n",
    "## Central Limit Theorem\n",
    "\n",
    "## Integration rules\n",
    "\n",
    "### Intregration by parts"
   ]
  },
  {
   "cell_type": "code",
   "execution_count": null,
   "metadata": {},
   "outputs": [],
   "source": []
  }
 ],
 "metadata": {
  "kernelspec": {
   "display_name": "Python 3",
   "language": "python",
   "name": "python3"
  },
  "language_info": {
   "codemirror_mode": {
    "name": "ipython",
    "version": 3
   },
   "file_extension": ".py",
   "mimetype": "text/x-python",
   "name": "python",
   "nbconvert_exporter": "python",
   "pygments_lexer": "ipython3",
   "version": "3.6.6"
  }
 },
 "nbformat": 4,
 "nbformat_minor": 2
}
